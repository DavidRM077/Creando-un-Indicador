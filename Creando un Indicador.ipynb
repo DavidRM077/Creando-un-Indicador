{
 "cells": [
  {
   "cell_type": "code",
   "execution_count": 2,
   "id": "2e8b30c6",
   "metadata": {},
   "outputs": [],
   "source": [
    "import matplotlib.pyplot as plt\n",
    "import pandas as pd "
   ]
  },
  {
   "cell_type": "code",
   "execution_count": 3,
   "id": "7a32fb64",
   "metadata": {},
   "outputs": [],
   "source": [
    "df = pd.read_csv('Estadisticas-de-Produccion-de-Siembra-de-Plantas-DIGECAC-2017-2025-4.csv', sep=',' , encoding='latin1')"
   ]
  },
  {
   "cell_type": "code",
   "execution_count": 4,
   "id": "f3602dba",
   "metadata": {},
   "outputs": [],
   "source": [
    "df.drop('Unnamed: 4' , axis=1, inplace=True)"
   ]
  },
  {
   "cell_type": "code",
   "execution_count": 5,
   "id": "160dc253",
   "metadata": {},
   "outputs": [
    {
     "data": {
      "text/plain": [
       "Tipo de Especie        object\n",
       "Cantidad Producida    float64\n",
       "Mes                    object\n",
       "Año                     int64\n",
       "dtype: object"
      ]
     },
     "execution_count": 5,
     "metadata": {},
     "output_type": "execute_result"
    }
   ],
   "source": [
    "df.dtypes"
   ]
  },
  {
   "cell_type": "code",
   "execution_count": 6,
   "id": "cae92cf7",
   "metadata": {},
   "outputs": [
    {
     "data": {
      "text/html": [
       "<div>\n",
       "<style scoped>\n",
       "    .dataframe tbody tr th:only-of-type {\n",
       "        vertical-align: middle;\n",
       "    }\n",
       "\n",
       "    .dataframe tbody tr th {\n",
       "        vertical-align: top;\n",
       "    }\n",
       "\n",
       "    .dataframe thead th {\n",
       "        text-align: right;\n",
       "    }\n",
       "</style>\n",
       "<table border=\"1\" class=\"dataframe\">\n",
       "  <thead>\n",
       "    <tr style=\"text-align: right;\">\n",
       "      <th></th>\n",
       "      <th>Tipo de Especie</th>\n",
       "      <th>Cantidad Producida</th>\n",
       "      <th>Mes</th>\n",
       "      <th>Año</th>\n",
       "    </tr>\n",
       "  </thead>\n",
       "  <tbody>\n",
       "    <tr>\n",
       "      <th>0</th>\n",
       "      <td>Agave</td>\n",
       "      <td>100.0</td>\n",
       "      <td>Enero</td>\n",
       "      <td>2017</td>\n",
       "    </tr>\n",
       "    <tr>\n",
       "      <th>1</th>\n",
       "      <td>Cheflera</td>\n",
       "      <td>300.0</td>\n",
       "      <td>Enero</td>\n",
       "      <td>2017</td>\n",
       "    </tr>\n",
       "    <tr>\n",
       "      <th>2</th>\n",
       "      <td>Crotos</td>\n",
       "      <td>2500.0</td>\n",
       "      <td>Enero</td>\n",
       "      <td>2017</td>\n",
       "    </tr>\n",
       "    <tr>\n",
       "      <th>3</th>\n",
       "      <td>Iris Amarillas</td>\n",
       "      <td>790.0</td>\n",
       "      <td>Enero</td>\n",
       "      <td>2017</td>\n",
       "    </tr>\n",
       "    <tr>\n",
       "      <th>4</th>\n",
       "      <td>Palma Manila</td>\n",
       "      <td>200.0</td>\n",
       "      <td>Enero</td>\n",
       "      <td>2017</td>\n",
       "    </tr>\n",
       "    <tr>\n",
       "      <th>...</th>\n",
       "      <td>...</td>\n",
       "      <td>...</td>\n",
       "      <td>...</td>\n",
       "      <td>...</td>\n",
       "    </tr>\n",
       "    <tr>\n",
       "      <th>6102</th>\n",
       "      <td>Rosa</td>\n",
       "      <td>2.0</td>\n",
       "      <td>Junio</td>\n",
       "      <td>2025</td>\n",
       "    </tr>\n",
       "    <tr>\n",
       "      <th>6103</th>\n",
       "      <td>Tamarindo</td>\n",
       "      <td>190.0</td>\n",
       "      <td>Junio</td>\n",
       "      <td>2025</td>\n",
       "    </tr>\n",
       "    <tr>\n",
       "      <th>6104</th>\n",
       "      <td>Trinitaria</td>\n",
       "      <td>2712.0</td>\n",
       "      <td>Junio</td>\n",
       "      <td>2025</td>\n",
       "    </tr>\n",
       "    <tr>\n",
       "      <th>6105</th>\n",
       "      <td>Uva de Plya</td>\n",
       "      <td>5435.0</td>\n",
       "      <td>Junio</td>\n",
       "      <td>2025</td>\n",
       "    </tr>\n",
       "    <tr>\n",
       "      <th>6106</th>\n",
       "      <td>Violeta</td>\n",
       "      <td>4820.0</td>\n",
       "      <td>Junio</td>\n",
       "      <td>2025</td>\n",
       "    </tr>\n",
       "  </tbody>\n",
       "</table>\n",
       "<p>6107 rows × 4 columns</p>\n",
       "</div>"
      ],
      "text/plain": [
       "     Tipo de Especie  Cantidad Producida    Mes   Año\n",
       "0              Agave               100.0  Enero  2017\n",
       "1           Cheflera               300.0  Enero  2017\n",
       "2             Crotos              2500.0  Enero  2017\n",
       "3     Iris Amarillas               790.0  Enero  2017\n",
       "4       Palma Manila               200.0  Enero  2017\n",
       "...              ...                 ...    ...   ...\n",
       "6102            Rosa                 2.0  Junio  2025\n",
       "6103      Tamarindo                190.0  Junio  2025\n",
       "6104      Trinitaria              2712.0  Junio  2025\n",
       "6105    Uva de Plya               5435.0  Junio  2025\n",
       "6106        Violeta               4820.0  Junio  2025\n",
       "\n",
       "[6107 rows x 4 columns]"
      ]
     },
     "execution_count": 6,
     "metadata": {},
     "output_type": "execute_result"
    }
   ],
   "source": [
    "df"
   ]
  },
  {
   "cell_type": "code",
   "execution_count": 7,
   "id": "e88a60b6",
   "metadata": {},
   "outputs": [
    {
     "data": {
      "image/png": "[encoded data removed]",
      "text/plain": [
       "<Figure size 640x480 with 1 Axes>"
      ]
     },
     "metadata": {},
     "output_type": "display_data"
    }
   ],
   "source": [
    "# Prueuba de Grafico\n",
    "plt.plot(df['Año'] , df['Cantidad Producida'])\n",
    "plt.title('Cantidad de Especies Producidas Por Año')\n",
    "plt.xlabel('Año')\n",
    "plt.ylabel('Cantidad Producida')\n",
    "plt.show()"
   ]
  },
  {
   "cell_type": "code",
   "execution_count": 8,
   "id": "f9ef508b",
   "metadata": {},
   "outputs": [],
   "source": [
    "# Vamos a sumar la cantidad producida por año quiero algo que salga mas o menos asi\n",
    "\n",
    "#2018 se produjo x cantidad de plantas\n",
    "#2019 se produjo x cantidad de plantas"
   ]
  },
  {
   "cell_type": "code",
   "execution_count": 9,
   "id": "a0bd2b10",
   "metadata": {},
   "outputs": [
    {
     "name": "stdout",
     "output_type": "stream",
     "text": [
      "[2017 2018 2019 2020 2021 2022 2023 2024 2025]\n",
      "int64\n"
     ]
    }
   ],
   "source": [
    "# Vamos A Verificar cuales años tenemos disponibles en nuestro dataset\n",
    "\n",
    "print(df['Año'].unique())\n",
    "\n",
    "# Verificar que tipo de datos es la columna año para ver como la vamos a manejar\n",
    "print(df['Año'].dtype)"
   ]
  },
  {
   "cell_type": "code",
   "execution_count": 10,
   "id": "39e8ba20",
   "metadata": {},
   "outputs": [],
   "source": [
    "Años_Disponible = {\n",
    "    2017,\n",
    "    2018,\n",
    "    2019,\n",
    "    2020,\n",
    "    2021,\n",
    "    2022,\n",
    "    2023,\n",
    "    2024,\n",
    "    2025\n",
    "}"
   ]
  },
  {
   "cell_type": "code",
   "execution_count": 11,
   "id": "f759d538",
   "metadata": {},
   "outputs": [
    {
     "name": "stdout",
     "output_type": "stream",
     "text": [
      "En el Año 2017 se Producieron un total de 125,969 Especies de Plantas\n",
      "En el Año 2018 se Producieron un total de 194,692 Especies de Plantas\n",
      "En el Año 2019 se Producieron un total de 168,815 Especies de Plantas\n",
      "En el Año 2020 se Producieron un total de 190,382 Especies de Plantas\n",
      "En el Año 2021 se Producieron un total de 835,169 Especies de Plantas\n",
      "En el Año 2022 se Producieron un total de 602,312 Especies de Plantas\n",
      "En el Año 2023 se Producieron un total de 447,891 Especies de Plantas\n",
      "En el Año 2024 se Producieron un total de 381,834 Especies de Plantas\n",
      "En el Año 2025 se Producieron un total de 181,129 Especies de Plantas\n"
     ]
    }
   ],
   "source": [
    "for Años_usados in Años_Disponible:\n",
    "    Consulta = df.loc[df['Año'] == Años_usados, 'Cantidad Producida'].sum()\n",
    "    print(f\"En el Año {Años_usados} se Producieron un total de {int(Consulta):,} Especies de Plantas\") "
   ]
  },
  {
   "cell_type": "code",
   "execution_count": 12,
   "id": "351ccf09",
   "metadata": {},
   "outputs": [],
   "source": [
    "# Vamos a sacar aqui el valor total y los años \n",
    "\n",
    "Datos_ParaExcel = []"
   ]
  },
  {
   "cell_type": "code",
   "execution_count": 13,
   "id": "838bbcba",
   "metadata": {},
   "outputs": [],
   "source": [
    "for año in Años_Disponible:\n",
    "    total = df.loc[df['Año'] == año , 'Cantidad Producida'].sum()\n",
    "    Datos_ParaExcel.append({\n",
    "        'Año': año,\n",
    "        'Cantidad de Especies' : int(total)\n",
    "    })"
   ]
  },
  {
   "cell_type": "code",
   "execution_count": 14,
   "id": "d071fa76",
   "metadata": {},
   "outputs": [],
   "source": [
    "tabla_Convertida = pd.DataFrame(Datos_ParaExcel)"
   ]
  },
  {
   "cell_type": "code",
   "execution_count": 15,
   "id": "72a919f9",
   "metadata": {},
   "outputs": [
    {
     "data": {
      "text/html": [
       "<div>\n",
       "<style scoped>\n",
       "    .dataframe tbody tr th:only-of-type {\n",
       "        vertical-align: middle;\n",
       "    }\n",
       "\n",
       "    .dataframe tbody tr th {\n",
       "        vertical-align: top;\n",
       "    }\n",
       "\n",
       "    .dataframe thead th {\n",
       "        text-align: right;\n",
       "    }\n",
       "</style>\n",
       "<table border=\"1\" class=\"dataframe\">\n",
       "  <thead>\n",
       "    <tr style=\"text-align: right;\">\n",
       "      <th></th>\n",
       "      <th>Año</th>\n",
       "      <th>Cantidad de Especies</th>\n",
       "    </tr>\n",
       "  </thead>\n",
       "  <tbody>\n",
       "    <tr>\n",
       "      <th>0</th>\n",
       "      <td>2017</td>\n",
       "      <td>125969</td>\n",
       "    </tr>\n",
       "    <tr>\n",
       "      <th>1</th>\n",
       "      <td>2018</td>\n",
       "      <td>194692</td>\n",
       "    </tr>\n",
       "    <tr>\n",
       "      <th>2</th>\n",
       "      <td>2019</td>\n",
       "      <td>168815</td>\n",
       "    </tr>\n",
       "    <tr>\n",
       "      <th>3</th>\n",
       "      <td>2020</td>\n",
       "      <td>190382</td>\n",
       "    </tr>\n",
       "    <tr>\n",
       "      <th>4</th>\n",
       "      <td>2021</td>\n",
       "      <td>835169</td>\n",
       "    </tr>\n",
       "    <tr>\n",
       "      <th>5</th>\n",
       "      <td>2022</td>\n",
       "      <td>602312</td>\n",
       "    </tr>\n",
       "    <tr>\n",
       "      <th>6</th>\n",
       "      <td>2023</td>\n",
       "      <td>447891</td>\n",
       "    </tr>\n",
       "    <tr>\n",
       "      <th>7</th>\n",
       "      <td>2024</td>\n",
       "      <td>381834</td>\n",
       "    </tr>\n",
       "    <tr>\n",
       "      <th>8</th>\n",
       "      <td>2025</td>\n",
       "      <td>181129</td>\n",
       "    </tr>\n",
       "  </tbody>\n",
       "</table>\n",
       "</div>"
      ],
      "text/plain": [
       "    Año  Cantidad de Especies\n",
       "0  2017                125969\n",
       "1  2018                194692\n",
       "2  2019                168815\n",
       "3  2020                190382\n",
       "4  2021                835169\n",
       "5  2022                602312\n",
       "6  2023                447891\n",
       "7  2024                381834\n",
       "8  2025                181129"
      ]
     },
     "execution_count": 15,
     "metadata": {},
     "output_type": "execute_result"
    }
   ],
   "source": [
    "tabla_Convertida"
   ]
  },
  {
   "cell_type": "code",
   "execution_count": 16,
   "id": "88146750",
   "metadata": {},
   "outputs": [
    {
     "data": {
      "image/png": "[encoded data removed]",
      "text/plain": [
       "<Figure size 640x480 with 1 Axes>"
      ]
     },
     "metadata": {},
     "output_type": "display_data"
    }
   ],
   "source": [
    "plt.plot(tabla_Convertida['Año'],tabla_Convertida['Cantidad de Especies'])\n",
    "plt.title('Cantidad de Especies por Año')\n",
    "plt.xlabel('Año')\n",
    "plt.ylabel('Cantidad de Especies')\n",
    "plt.show()"
   ]
  },
  {
   "cell_type": "code",
   "execution_count": 17,
   "id": "ae3f1dea",
   "metadata": {},
   "outputs": [],
   "source": [
    "tabla_Convertida.to_excel('Cantidad de Especies Producidas Por Año.xlsx',index=False)"
   ]
  }
 ],
 "metadata": {
  "kernelspec": {
   "display_name": "Python 3",
   "language": "python",
   "name": "python3"
  },
  "language_info": {
   "codemirror_mode": {
    "name": "ipython",
    "version": 3
   },
   "file_extension": ".py",
   "mimetype": "text/x-python",
   "name": "python",
   "nbconvert_exporter": "python",
   "pygments_lexer": "ipython3",
   "version": "3.13.2"
  }
 },
 "nbformat": 4,
 "nbformat_minor": 5
}
